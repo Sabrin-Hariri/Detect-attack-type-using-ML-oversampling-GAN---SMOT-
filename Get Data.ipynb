{
  "cells": [
    {
      "cell_type": "code",
      "execution_count": null,
      "metadata": {
        "colab": {
          "base_uri": "https://localhost:8080/"
        },
        "id": "otCKLBJnPoYh",
        "outputId": "999c3d44-0242-489d-fc48-029d87157511"
      },
      "outputs": [
        {
          "name": "stdout",
          "output_type": "stream",
          "text": [
            "Loading http://205.174.165.80/IOTDataset/CIC-BCCC-NRC-TabularIoTAttacks-2024/Dataset/CIC-BCCC-NRC-IoMT-2024/Benign%20Traffic.csv...\n",
            "Loading http://205.174.165.80/IOTDataset/CIC-BCCC-NRC-TabularIoTAttacks-2024/Dataset/CIC-BCCC-NRC-IoMT-2024/DDoS%20ICMP%20Flood.csv...\n",
            "Loading http://205.174.165.80/IOTDataset/CIC-BCCC-NRC-TabularIoTAttacks-2024/Dataset/CIC-BCCC-NRC-IoMT-2024/DDoS%20UDP%20Flood.csv...\n",
            "Loading http://205.174.165.80/IOTDataset/CIC-BCCC-NRC-TabularIoTAttacks-2024/Dataset/CIC-BCCC-NRC-IoMT-2024/DoS%20ICMP%20Flood.csv...\n",
            "Loading http://205.174.165.80/IOTDataset/CIC-BCCC-NRC-TabularIoTAttacks-2024/Dataset/CIC-BCCC-NRC-IoMT-2024/DoS%20UDP%20Flood.csv...\n",
            "Loading http://205.174.165.80/IOTDataset/CIC-BCCC-NRC-TabularIoTAttacks-2024/Dataset/CIC-BCCC-NRC-IoMT-2024/DoS%20UDP%20Flood.csv...\n",
            "Loading http://205.174.165.80/IOTDataset/CIC-BCCC-NRC-TabularIoTAttacks-2024/Dataset/CIC-BCCC-NRC-IoMT-2024/MITM%20ARP%20Spoofing.csv...\n",
            "Loading http://205.174.165.80/IOTDataset/CIC-BCCC-NRC-TabularIoTAttacks-2024/Dataset/CIC-BCCC-NRC-IoMT-2024/MQTT%20DDoS%20Publish%20Flood.csv...\n",
            "Loading http://205.174.165.80/IOTDataset/CIC-BCCC-NRC-TabularIoTAttacks-2024/Dataset/CIC-BCCC-NRC-IoMT-2024/MQTT%20DoS%20Connect%20Flood.csv...\n",
            "Loading http://205.174.165.80/IOTDataset/CIC-BCCC-NRC-TabularIoTAttacks-2024/Dataset/CIC-BCCC-NRC-IoMT-2024/MQTT%20DoS%20Publish%20Flood.csv...\n",
            "Loading http://205.174.165.80/IOTDataset/CIC-BCCC-NRC-TabularIoTAttacks-2024/Dataset/CIC-BCCC-NRC-IoMT-2024/MQTT%20Malformed.csv...\n",
            "Loading http://205.174.165.80/IOTDataset/CIC-BCCC-NRC-TabularIoTAttacks-2024/Dataset/CIC-BCCC-NRC-IoMT-2024/Recon%20OS%20Scan.csv...\n",
            "Loading http://205.174.165.80/IOTDataset/CIC-BCCC-NRC-TabularIoTAttacks-2024/Dataset/CIC-BCCC-NRC-IoMT-2024/Recon%20Ping%20Sweep.csv...\n",
            "Loading http://205.174.165.80/IOTDataset/CIC-BCCC-NRC-TabularIoTAttacks-2024/Dataset/CIC-BCCC-NRC-IoMT-2024/Recon%20Port%20Scan.csv...\n",
            "Loading http://205.174.165.80/IOTDataset/CIC-BCCC-NRC-TabularIoTAttacks-2024/Dataset/CIC-BCCC-NRC-IoMT-2024/Recon%20Vulnerability%20Scan.csv...\n",
            "Data sampling completed successfully!\n",
            "Balanced dataset saved as 'balanced_data.csv'\n"
          ]
        }
      ],
      "source": [
        "import pandas as pd\n",
        "import random\n",
        "\n",
        "def load_and_sample_data(file_paths, benign_samples=4000, attack_samples=1004):\n",
        "    all_data = []\n",
        "\n",
        "    for file_path in file_paths:\n",
        "        print(f\"Loading {file_path}...\")\n",
        "        df = pd.read_csv(file_path)\n",
        "\n",
        "        label = file_path.split('/')[-1].replace('.csv', '')\n",
        "        df['label'] = label\n",
        "\n",
        "        if 'Benign' in file_path:\n",
        "            sampled_df = df.sample(n=benign_samples, random_state=42, replace=False)\n",
        "        else:\n",
        "            sampled_df = df.sample(n=min(attack_samples, len(df)), random_state=42, replace=False)\n",
        "\n",
        "        all_data.append(sampled_df)\n",
        "\n",
        "    final_df = pd.concat(all_data, ignore_index=True)\n",
        "    print(\"Data sampling completed successfully!\")\n",
        "    return final_df\n",
        "\n",
        "file_paths = [\n",
        "    \"http://205.174.165.80/IOTDataset/CIC-BCCC-NRC-TabularIoTAttacks-2024/Dataset/CIC-BCCC-NRC-IoMT-2024/Benign%20Traffic.csv\",\n",
        "    \"http://205.174.165.80/IOTDataset/CIC-BCCC-NRC-TabularIoTAttacks-2024/Dataset/CIC-BCCC-NRC-IoMT-2024/DDoS%20ICMP%20Flood.csv\",\n",
        "    \"http://205.174.165.80/IOTDataset/CIC-BCCC-NRC-TabularIoTAttacks-2024/Dataset/CIC-BCCC-NRC-IoMT-2024/DDoS%20UDP%20Flood.csv\",\n",
        "    \"http://205.174.165.80/IOTDataset/CIC-BCCC-NRC-TabularIoTAttacks-2024/Dataset/CIC-BCCC-NRC-IoMT-2024/DoS%20ICMP%20Flood.csv\",\n",
        "    \"http://205.174.165.80/IOTDataset/CIC-BCCC-NRC-TabularIoTAttacks-2024/Dataset/CIC-BCCC-NRC-IoMT-2024/DoS%20UDP%20Flood.csv\",\n",
        "    \"http://205.174.165.80/IOTDataset/CIC-BCCC-NRC-TabularIoTAttacks-2024/Dataset/CIC-BCCC-NRC-IoMT-2024/DoS%20UDP%20Flood.csv\",\n",
        "    \"http://205.174.165.80/IOTDataset/CIC-BCCC-NRC-TabularIoTAttacks-2024/Dataset/CIC-BCCC-NRC-IoMT-2024/MITM%20ARP%20Spoofing.csv\",\n",
        "    \"http://205.174.165.80/IOTDataset/CIC-BCCC-NRC-TabularIoTAttacks-2024/Dataset/CIC-BCCC-NRC-IoMT-2024/MQTT%20DDoS%20Publish%20Flood.csv\",\n",
        "    \"http://205.174.165.80/IOTDataset/CIC-BCCC-NRC-TabularIoTAttacks-2024/Dataset/CIC-BCCC-NRC-IoMT-2024/MQTT%20DoS%20Connect%20Flood.csv\",\n",
        "    \"http://205.174.165.80/IOTDataset/CIC-BCCC-NRC-TabularIoTAttacks-2024/Dataset/CIC-BCCC-NRC-IoMT-2024/MQTT%20DoS%20Publish%20Flood.csv\",\n",
        "    \"http://205.174.165.80/IOTDataset/CIC-BCCC-NRC-TabularIoTAttacks-2024/Dataset/CIC-BCCC-NRC-IoMT-2024/MQTT%20Malformed.csv\",\n",
        "    \"http://205.174.165.80/IOTDataset/CIC-BCCC-NRC-TabularIoTAttacks-2024/Dataset/CIC-BCCC-NRC-IoMT-2024/Recon%20OS%20Scan.csv\",\n",
        "    \"http://205.174.165.80/IOTDataset/CIC-BCCC-NRC-TabularIoTAttacks-2024/Dataset/CIC-BCCC-NRC-IoMT-2024/Recon%20Ping%20Sweep.csv\",\n",
        "    \"http://205.174.165.80/IOTDataset/CIC-BCCC-NRC-TabularIoTAttacks-2024/Dataset/CIC-BCCC-NRC-IoMT-2024/Recon%20Port%20Scan.csv\",\n",
        "    \"http://205.174.165.80/IOTDataset/CIC-BCCC-NRC-TabularIoTAttacks-2024/Dataset/CIC-BCCC-NRC-IoMT-2024/Recon%20Vulnerability%20Scan.csv\"\n",
        "]\n",
        "\n",
        "balanced_data = load_and_sample_data(file_paths)\n",
        "balanced_data.to_csv(\"balanced_data.csv\", index=False)\n",
        "print(\"Balanced dataset saved as 'balanced_data.csv'\")\n"
      ]
    },
    {
      "cell_type": "code",
      "execution_count": null,
      "metadata": {
        "colab": {
          "base_uri": "https://localhost:8080/"
        },
        "id": "pjXt79xkODTq",
        "outputId": "21db71b3-7504-48df-b2c7-8eb2f95db516"
      },
      "outputs": [
        {
          "data": {
            "text/plain": [
              "array(['Benign Traffic', 'DDoS ICMP Flood', 'DDoS UDP Flood',\n",
              "       'DoS ICMP Flood', 'DoS UDP Flood', 'MITM ARP Spoofing',\n",
              "       'MQTT DDoS Publish Flood', 'MQTT DoS Connect Flood',\n",
              "       'MQTT DoS Publish Flood', 'MQTT Malformed', 'Recon OS Scan',\n",
              "       'Recon Ping Sweep', 'Recon Port Scan', 'Recon Vulnerability Scan'],\n",
              "      dtype=object)"
            ]
          },
          "execution_count": 3,
          "metadata": {},
          "output_type": "execute_result"
        }
      ],
      "source": [
        "import pandas as pd\n",
        "\n",
        "df = pd.read_csv(\"/content/balanced_data.csv\")\n",
        "unique_attacks = df['Attack Name'].unique()\n",
        "unique_attacks\n"
      ]
    },
    {
      "cell_type": "markdown",
      "metadata": {
        "id": "ug1jKrjfLaSz"
      },
      "source": [
        "#3\n",
        "**bold text**"
      ]
    },
    {
      "cell_type": "code",
      "execution_count": null,
      "metadata": {
        "colab": {
          "base_uri": "https://localhost:8080/"
        },
        "id": "I3HNwj_qCZ3P",
        "outputId": "3a13781a-749a-4b36-c5cc-0f85692291a9"
      },
      "outputs": [
        {
          "name": "stdout",
          "output_type": "stream",
          "text": [
            "Loading http://205.174.165.80/IOTDataset/CIC%20IoT-IDAD%20Dataset%202024/Dataset/Anomaly%20Detection%20-%20Flow%20Based%20features/FlowmeterResult/Benign&Bruteforce/benign/BenignTraffic.pcap_Flow.csv...\n",
            "Loading http://205.174.165.80/IOTDataset/CIC%20IoT-IDAD%20Dataset%202024/Dataset/Anomaly%20Detection%20-%20Flow%20Based%20features/FlowmeterResult/DDoS/DDoS-HTTP%20Flood/DDoS-HTTP_Flood-.pcap_Flow.csv...\n",
            "Loading http://205.174.165.80/IOTDataset/CIC%20IoT-IDAD%20Dataset%202024/Dataset/Anomaly%20Detection%20-%20Flow%20Based%20features/FlowmeterResult/DDoS/DDoS%20ACK%20Fragmentation/DDoS-ACK_Fragmentation11.pcap_Flow.csv...\n",
            "Loading http://205.174.165.80/IOTDataset/CIC%20IoT-IDAD%20Dataset%202024/Dataset/Anomaly%20Detection%20-%20Flow%20Based%20features/FlowmeterResult/DDoS/DDoS%20ICMP%20Flood/DDoS-ICMP_Flood4.pcap_Flow.csv...\n",
            "Loading http://205.174.165.80/IOTDataset/CIC%20IoT-IDAD%20Dataset%202024/Dataset/Anomaly%20Detection%20-%20Flow%20Based%20features/FlowmeterResult/DoS/DoS-HTTP_Flood/...\n",
            "Loading http://205.174.165.80/IOTDataset/CIC%20IoT-IDAD%20Dataset%202024/Dataset/Anomaly%20Detection%20-%20Flow%20Based%20features/FlowmeterResult/DoS/DoS-TCP_Flood/...\n",
            "Loading http://205.174.165.80/IOTDataset/CIC%20IoT-IDAD%20Dataset%202024/Dataset/Anomaly%20Detection%20-%20Flow%20Based%20features/FlowmeterResult/DoS/DoS-UDP_Flood/...\n",
            "Loading http://205.174.165.80/IOTDataset/CIC%20IoT-IDAD%20Dataset%202024/Dataset/Anomaly%20Detection%20-%20Flow%20Based%20features/FlowmeterResult/DoS/DoS%20SYN%20Flood/...\n",
            "Loading http://205.174.165.80/IOTDataset/CIC%20IoT-IDAD%20Dataset%202024/Dataset/Anomaly%20Detection%20-%20Flow%20Based%20features/FlowmeterResult/Mirai/Mirai-greeth_flood6.pcap_Flow.csv...\n",
            "Loading http://205.174.165.80/IOTDataset/CIC%20IoT-IDAD%20Dataset%202024/Dataset/Anomaly%20Detection%20-%20Flow%20Based%20features/FlowmeterResult/VulnerabilityScan/VulnerabilityScan.pcap_Flow.csv...\n",
            "Loading http://205.174.165.80/IOTDataset/CIC%20IoT-IDAD%20Dataset%202024/Dataset/Anomaly%20Detection%20-%20Flow%20Based%20features/FlowmeterResult/spoofing/ARP%20Spoofing/MITM-ArpSpoofing.pcap_Flow.csv...\n",
            "Loading http://205.174.165.80/IOTDataset/CIC%20IoT-IDAD%20Dataset%202024/Dataset/Anomaly%20Detection%20-%20Flow%20Based%20features/FlowmeterResult/spoofing/DNS%20Spoofing/DNS_Spoofing.pcap_Flow.csv...\n",
            "Loading http://205.174.165.80/IOTDataset/CIC%20IoT-IDAD%20Dataset%202024/Dataset/Anomaly%20Detection%20-%20Flow%20Based%20features/FlowmeterResult/sqlinjection/SqlInjection.pcap_Flow.csv...\n",
            "Data sampling completed successfully!\n",
            "Balanced dataset saved as 'balanced_data.csv'\n"
          ]
        }
      ],
      "source": [
        "import pandas as pd\n",
        "import random\n",
        "\n",
        "def load_and_sample_data(file_paths, benign_samples=4000, attack_samples=1004):\n",
        "    all_data = []\n",
        "\n",
        "    for file_path in file_paths:\n",
        "        print(f\"Loading {file_path}...\")\n",
        "        df = pd.read_csv(file_path)\n",
        "\n",
        "        label = file_path.split('/')[-1].replace('.csv', '')\n",
        "        df['label'] = label\n",
        "\n",
        "        if 'Benign' in file_path:\n",
        "            sampled_df = df.sample(n=benign_samples, random_state=42, replace=False)\n",
        "        else:\n",
        "            sampled_df = df.sample(n=min(attack_samples, len(df)), random_state=42, replace=False)\n",
        "\n",
        "        all_data.append(sampled_df)\n",
        "\n",
        "    final_df = pd.concat(all_data, ignore_index=True)\n",
        "    print(\"Data sampling completed successfully!\")\n",
        "    return final_df\n",
        "\n",
        "file_paths = [\n",
        "\"http://205.174.165.80/IOTDataset/CIC%20IoT-IDAD%20Dataset%202024/Dataset/Anomaly%20Detection%20-%20Flow%20Based%20features/FlowmeterResult/Benign&Bruteforce/benign/BenignTraffic.pcap_Flow.csv\",\n",
        "    \"http://205.174.165.80/IOTDataset/CIC%20IoT-IDAD%20Dataset%202024/Dataset/Anomaly%20Detection%20-%20Flow%20Based%20features/FlowmeterResult/DDoS/DDoS-HTTP%20Flood/DDoS-HTTP_Flood-.pcap_Flow.csv\",\n",
        "    \"http://205.174.165.80/IOTDataset/CIC%20IoT-IDAD%20Dataset%202024/Dataset/Anomaly%20Detection%20-%20Flow%20Based%20features/FlowmeterResult/DDoS/DDoS%20ACK%20Fragmentation/DDoS-ACK_Fragmentation11.pcap_Flow.csv\",\n",
        "    \"http://205.174.165.80/IOTDataset/CIC%20IoT-IDAD%20Dataset%202024/Dataset/Anomaly%20Detection%20-%20Flow%20Based%20features/FlowmeterResult/DDoS/DDoS%20ICMP%20Flood/DDoS-ICMP_Flood4.pcap_Flow.csv\",\n",
        "    \"http://205.174.165.80/IOTDataset/CIC%20IoT-IDAD%20Dataset%202024/Dataset/Anomaly%20Detection%20-%20Flow%20Based%20features/FlowmeterResult/DoS/DoS-HTTP_Flood/\",\n",
        "    \"http://205.174.165.80/IOTDataset/CIC%20IoT-IDAD%20Dataset%202024/Dataset/Anomaly%20Detection%20-%20Flow%20Based%20features/FlowmeterResult/DoS/DoS-TCP_Flood/\",\n",
        "    \"http://205.174.165.80/IOTDataset/CIC%20IoT-IDAD%20Dataset%202024/Dataset/Anomaly%20Detection%20-%20Flow%20Based%20features/FlowmeterResult/DoS/DoS-UDP_Flood/\",\n",
        "    \"http://205.174.165.80/IOTDataset/CIC%20IoT-IDAD%20Dataset%202024/Dataset/Anomaly%20Detection%20-%20Flow%20Based%20features/FlowmeterResult/DoS/DoS%20SYN%20Flood/\",\n",
        "    \"http://205.174.165.80/IOTDataset/CIC%20IoT-IDAD%20Dataset%202024/Dataset/Anomaly%20Detection%20-%20Flow%20Based%20features/FlowmeterResult/Mirai/Mirai-greeth_flood6.pcap_Flow.csv\",\n",
        "    \"http://205.174.165.80/IOTDataset/CIC%20IoT-IDAD%20Dataset%202024/Dataset/Anomaly%20Detection%20-%20Flow%20Based%20features/FlowmeterResult/VulnerabilityScan/VulnerabilityScan.pcap_Flow.csv\",\n",
        "    \"http://205.174.165.80/IOTDataset/CIC%20IoT-IDAD%20Dataset%202024/Dataset/Anomaly%20Detection%20-%20Flow%20Based%20features/FlowmeterResult/spoofing/ARP%20Spoofing/MITM-ArpSpoofing.pcap_Flow.csv\",\n",
        "    \"http://205.174.165.80/IOTDataset/CIC%20IoT-IDAD%20Dataset%202024/Dataset/Anomaly%20Detection%20-%20Flow%20Based%20features/FlowmeterResult/spoofing/DNS%20Spoofing/DNS_Spoofing.pcap_Flow.csv\",\n",
        "    \"http://205.174.165.80/IOTDataset/CIC%20IoT-IDAD%20Dataset%202024/Dataset/Anomaly%20Detection%20-%20Flow%20Based%20features/FlowmeterResult/sqlinjection/SqlInjection.pcap_Flow.csv\",\n",
        "]\n",
        "\n",
        "balanced_data = load_and_sample_data(file_paths)\n",
        "balanced_data.to_csv(\"3_DATA.csv\", index=False)\n",
        "print(\"Balanced dataset saved as 'balanced_data.csv'\")\n"
      ]
    }
  ],
  "metadata": {
    "colab": {
      "provenance": [],
      "toc_visible": true
    },
    "kernelspec": {
      "display_name": "Python 3",
      "name": "python3"
    },
    "language_info": {
      "name": "python"
    }
  },
  "nbformat": 4,
  "nbformat_minor": 0
}
